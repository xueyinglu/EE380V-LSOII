{
 "cells": [
  {
   "cell_type": "markdown",
   "metadata": {},
   "source": [
    "## Problem 1. \n",
    "$$\n",
    "\\begin{split}\\min \\quad &\\Vert X\\beta-y\\Vert_1\\\\\n",
    "\\text{s.t.} \\quad & \\beta\\in \\mathcal{X}\n",
    "\\end{split}$$\n",
    "(a) Projected Gradient Descent\n",
    "$$\\beta_{t+1}=Proj_{\\mathcal{X}} (\\beta-\\eta g_t),\\quad g_t \\in \\partial (\\Vert X\\beta-y\\Vert_1)$$.\n",
    "\n",
    "The projection onto the unit simplex $\\mathcal{X}=\\{\\beta:\\beta \\geq 0,\\sum \\beta_i =1\\}$ was discussed in HW2."
   ]
  },
  {
   "cell_type": "code",
   "execution_count": 103,
   "metadata": {},
   "outputs": [],
   "source": [
    "import numpy as np\n",
    "import numpy.random as rn\n",
    "import numpy.linalg as la\n",
    "import matplotlib.pyplot as plt\n",
    "from __future__ import division\n",
    "\n",
    "X=np.load(\"X.npy\")\n",
    "y=np.load(\"y.npy\")\n",
    "y_corr=np.load(\"y_corr.npy\")"
   ]
  },
  {
   "cell_type": "code",
   "execution_count": 80,
   "metadata": {},
   "outputs": [],
   "source": [
    "def proj_unit_simplex(x):\n",
    "    mu=1/x.shape[0]\n",
    "    dmu=float(\"inf\")\n",
    "    print(\"x={}\".format(x))\n",
    "    while (abs(dmu)>0):\n",
    "        h=(np.sum([max(i-0.5*mu,0) for i in x])-1)\n",
    "        print(\"h={}\".format(h))\n",
    "        grad = np.sum(-0.5*((x-0.5*mu)>0))\n",
    "        print(\"grad={}\".format(grad))\n",
    "        if (grad==0):\n",
    "            break\n",
    "        dmu = h/grad\n",
    "        mu = mu+dmu\n",
    "        print(\"mu={}\".format(mu))\n",
    "        proj =[max(i-0.5*mu, 0) for i in x]\n",
    "        print(\"proj={}\".format(proj))\n",
    "    return proj"
   ]
  },
  {
   "cell_type": "code",
   "execution_count": 84,
   "metadata": {},
   "outputs": [],
   "source": [
    "def proj(x):\n",
    "    n, = x.shape  # will raise ValueError if v is not 1-D\n",
    "    # check if we are already on the simplex\n",
    "    if x.sum() == 1 and np.alltrue(x >= 0):\n",
    "        # best projection: itself!\n",
    "        return x\n",
    "    # get the array of cumulative sums of a sorted (decreasing) copy of v\n",
    "    u = np.sort(x)[::-1]\n",
    "    cssx = np.cumsum(x)\n",
    "    # get the number of > 0 components of the optimal solution\n",
    "    rho = np.nonzero(u * np.arange(1, n+1) > (cssx - 1))[0][-1]\n",
    "    # compute the Lagrange multiplier associated to the simplex constraint\n",
    "    theta = float(cssx[rho] - 1) / rho\n",
    "    # compute the projection by thresholding v using theta\n",
    "    v = (x - theta).clip(min=0)\n",
    "    return v\n"
   ]
  },
  {
   "cell_type": "code",
   "execution_count": 89,
   "metadata": {},
   "outputs": [],
   "source": [
    "def proj_gd(X,y, eta, T=int(1e3)):\n",
    "    beta = np.zeros(X.shape[1])\n",
    "    loss = []\n",
    "    for t in range(T):\n",
    "        beta=proj(beta-eta*X.T.dot(np.sign(X.dot(beta)-y)))\n",
    "        loss.append(la.norm(X.dot(beta)-y,1))\n",
    "    return loss"
   ]
  },
  {
   "cell_type": "code",
   "execution_count": 90,
   "metadata": {},
   "outputs": [],
   "source": [
    "loss_pdg=proj_gd(X,y, eta=1e-5)"
   ]
  },
  {
   "cell_type": "code",
   "execution_count": 91,
   "metadata": {},
   "outputs": [
    {
     "data": {
      "text/plain": [
       "<matplotlib.legend.Legend at 0x11264ee80>"
      ]
     },
     "execution_count": 91,
     "metadata": {},
     "output_type": "execute_result"
    },
    {
     "data": {
      "image/png": "[encoded data removed]",
      "text/plain": [
       "<Figure size 432x288 with 1 Axes>"
      ]
     },
     "metadata": {
      "needs_background": "light"
     },
     "output_type": "display_data"
    }
   ],
   "source": [
    "fig=plt.figure()\n",
    "plt.plot(loss_pdg, label='Projected GD')\n",
    "plt.title('loss function')\n",
    "plt.xlabel('iteration')\n",
    "plt.ylabel('loss function')\n",
    "plt.legend()"
   ]
  },
  {
   "cell_type": "markdown",
   "metadata": {},
   "source": [
    "(b) robustness properties"
   ]
  },
  {
   "cell_type": "code",
   "execution_count": 95,
   "metadata": {},
   "outputs": [
    {
     "data": {
      "text/plain": [
       "<matplotlib.legend.Legend at 0x112a8ccc0>"
      ]
     },
     "execution_count": 95,
     "metadata": {},
     "output_type": "execute_result"
    },
    {
     "data": {
      "image/png": "[encoded data removed]",
      "text/plain": [
       "<Figure size 432x288 with 1 Axes>"
      ]
     },
     "metadata": {
      "needs_background": "light"
     },
     "output_type": "display_data"
    }
   ],
   "source": [
    "loss_pdg_corr=proj_gd(X,y_corr, eta=1e-5)\n",
    "fig=plt.figure()\n",
    "plt.plot(loss_pdg, label='Projected GD')\n",
    "plt.plot(loss_pdg_corr, label='Projected GD, corrupted')\n",
    "plt.title('loss function of projected gradient descent')\n",
    "plt.xlabel('iteration')\n",
    "plt.ylabel('loss function')\n",
    "plt.legend()"
   ]
  },
  {
   "cell_type": "markdown",
   "metadata": {},
   "source": [
    "Compare with the performance of\n",
    "$$\n",
    "\\begin{split}\\min \\quad &\\frac{1}{2}\\Vert X\\beta-y\\Vert_2\\\\\n",
    "\\text{s.t.} \\quad & \\beta\\in \\mathcal{X}\n",
    "\\end{split}$$\n",
    "with projected gradient descent "
   ]
  },
  {
   "cell_type": "code",
   "execution_count": 110,
   "metadata": {},
   "outputs": [],
   "source": [
    "def proj_gd_l2(X,y, eta, T=int(1e3)):\n",
    "    beta = np.zeros(X.shape[1])\n",
    "    loss = []\n",
    "    for t in range(T):\n",
    "        beta=proj(beta-eta*X.T.dot(X.dot(beta)-y))\n",
    "        loss.append(0.5*la.norm(X.dot(beta)-y))\n",
    "    return loss"
   ]
  },
  {
   "cell_type": "code",
   "execution_count": 111,
   "metadata": {},
   "outputs": [
    {
     "data": {
      "text/plain": [
       "<matplotlib.legend.Legend at 0x113828f98>"
      ]
     },
     "execution_count": 111,
     "metadata": {},
     "output_type": "execute_result"
    },
    {
     "data": {
      "image/png": "[encoded data removed]",
      "text/plain": [
       "<Figure size 432x288 with 1 Axes>"
      ]
     },
     "metadata": {
      "needs_background": "light"
     },
     "output_type": "display_data"
    }
   ],
   "source": [
    "eigen =la.eigvals(X.transpose().dot(X))\n",
    "loss_l2=proj_gd_l2(X,y, eta=1/max(eigen),T=100)\n",
    "loss_l2_corr=proj_gd_l2(X,y_corr, eta=1/max(eigen),T=100)\n",
    "\n",
    "fig=plt.figure()\n",
    "plt.plot(loss_l2, label='Projected GD')\n",
    "plt.plot(loss_l2_corr, label='Projected GD, corrupted')\n",
    "plt.title('L2 loss function of projected gradient descent')\n",
    "plt.xlabel('iteration')\n",
    "plt.ylabel('loss function')\n",
    "plt.legend()"
   ]
  },
  {
   "cell_type": "markdown",
   "metadata": {},
   "source": [
    "## Problem 2. Mirror Descent\n",
    "\n",
    "$$\\beta_{t+1}=\\text{argmin}_{\\beta \\in \\mathcal{X}}\\quad \\eta g_t^T \\beta +D_{\\phi}(\\beta,\\beta_t),\\quad g_t \\in \\partial (\\Vert X\\beta-y\\Vert_1)$$\n",
    "$$\n",
    "\\mathcal{X}=\\{\\beta: \\beta \\geq 0: \\sum \\beta_i =1\\}\n",
    "$$\n",
    "$$\n",
    "\\phi(\\beta)=\\sum \\beta_i\\log \\beta_i\n",
    "$$\n",
    "$$\n",
    "D_\\phi(x,y) = \\sum x_i\\log\\frac{x_i}{y_i}\n",
    "$$"
   ]
  },
  {
   "cell_type": "code",
   "execution_count": 120,
   "metadata": {},
   "outputs": [],
   "source": [
    "def mirror_descent(X,y, eta, T=int(1e3)):\n",
    "    beta = np.ones(X.shape[1])/X.shape[1]\n",
    "    loss = []\n",
    "    for t in range(T):\n",
    "        grad =X.T.dot(np.sign(X.dot(beta)-y))\n",
    "        lam = np.log(1/(np.sum(beta*np.exp(-eta*grad))))-1\n",
    "        beta =beta*np.exp(-eta*grad+lam+1)\n",
    "        loss.append(la.norm(X.dot(beta)-y,1))\n",
    "    return loss,beta"
   ]
  },
  {
   "cell_type": "code",
   "execution_count": 122,
   "metadata": {},
   "outputs": [
    {
     "name": "stdout",
     "output_type": "stream",
     "text": [
      "beta=[0.0469175  0.06175398 0.05178969 0.04748475 0.03629062 0.05559994\n",
      " 0.03746356 0.07687167 0.08256118 0.03287129 0.06817751 0.04503461\n",
      " 0.04930933 0.07911248 0.00624476 0.00749648 0.00165611 0.07208449\n",
      " 0.06647181 0.07480825]\n"
     ]
    },
    {
     "data": {
      "image/png": "[encoded data removed]",
      "text/plain": [
       "<Figure size 432x288 with 1 Axes>"
      ]
     },
     "metadata": {
      "needs_background": "light"
     },
     "output_type": "display_data"
    }
   ],
   "source": [
    "loss_md,beta=mirror_descent(X,y, eta=1e-3,T=1000)\n",
    "\n",
    "fig=plt.figure()\n",
    "plt.plot(loss_md, label='Mirror Descent')\n",
    "plt.plot(loss_pdg, label='Projected Subgradient Descent')\n",
    "plt.title('L1 loss function')\n",
    "plt.xlabel('iteration')\n",
    "plt.ylabel('loss function')\n",
    "plt.legend()\n",
    "print(\"beta={}\".format(beta))"
   ]
  },
  {
   "cell_type": "markdown",
   "metadata": {},
   "source": [
    "## Problem 3. Matrix Completion"
   ]
  },
  {
   "cell_type": "markdown",
   "metadata": {},
   "source": [
    "### (a) subgradient of nuclear norm"
   ]
  },
  {
   "cell_type": "code",
   "execution_count": 144,
   "metadata": {},
   "outputs": [],
   "source": [
    "def subgradient_nuclear(X):\n",
    "    u, s, vh = np.linalg.svd(X, full_matrices=True)\n",
    "    d = np.sign(s)\n",
    "    D = np.zeros(X.shape)\n",
    "    for i in range(len(d)):\n",
    "        D[i,i] =d[i]\n",
    "    Z = u.dot(D.dot(vh))\n",
    "    return Z"
   ]
  },
  {
   "cell_type": "markdown",
   "metadata": {},
   "source": [
    "### (b) projection"
   ]
  },
  {
   "cell_type": "code",
   "execution_count": 135,
   "metadata": {},
   "outputs": [],
   "source": [
    "def proj_Omega(X,O, M):\n",
    "    Ones =np.ones(X.shape)\n",
    "    return (Ones-O)*X+O*M\n",
    "    "
   ]
  },
  {
   "cell_type": "code",
   "execution_count": 136,
   "metadata": {},
   "outputs": [],
   "source": [
    "import pandas as pd\n",
    "M =pd.read_csv(\"./MatrixCompletion/M.csv\", sep = \",\", header =None)\n",
    "O =pd.read_csv(\"./MatrixCompletion/O.csv\", sep = \",\", header =None)"
   ]
  },
  {
   "cell_type": "markdown",
   "metadata": {},
   "source": [
    "### (c) implementation"
   ]
  },
  {
   "cell_type": "code",
   "execution_count": 140,
   "metadata": {},
   "outputs": [],
   "source": [
    "def matrix_completion1(O,M, T = int(1e4)):\n",
    "    X = np.ones(M.shape)\n",
    "    err = []\n",
    "    for t in range(T):\n",
    "        eta =1.0/(t+1)\n",
    "        X = proj_Omega(X-eta*subgradient_nuclear(X), O,M)\n",
    "        err.append(la.norm(M-X)/(100**2))\n",
    "    return err\n",
    "\n",
    "def matrix_completion2(O,M, T = int(1e4)):\n",
    "    X = np.ones(M.shape)\n",
    "    err = []\n",
    "    for t in range(T):\n",
    "        eta =1.0/np.sqrt(t+1)\n",
    "        X = proj_Omega(X-eta*subgradient_nuclear(X), O,M)\n",
    "        err.append(la.norm(M-X)/(100**2))\n",
    "    return err"
   ]
  },
  {
   "cell_type": "markdown",
   "metadata": {},
   "source": [
    "### (d) plots"
   ]
  },
  {
   "cell_type": "code",
   "execution_count": 145,
   "metadata": {},
   "outputs": [
    {
     "data": {
      "text/plain": [
       "<matplotlib.legend.Legend at 0x113e2fa90>"
      ]
     },
     "execution_count": 145,
     "metadata": {},
     "output_type": "execute_result"
    },
    {
     "data": {
      "image/png": "[encoded data removed]",
      "text/plain": [
       "<Figure size 432x288 with 1 Axes>"
      ]
     },
     "metadata": {
      "needs_background": "light"
     },
     "output_type": "display_data"
    }
   ],
   "source": [
    "err1= matrix_completion1(O,M)\n",
    "err2= matrix_completion2(O,M)\n",
    "\n",
    "fig=plt.figure()\n",
    "plt.plot(err1, label='\\eta_k=1/k')\n",
    "plt.plot(err2, label='\\eta_k =1/\\sqrt(k)')\n",
    "plt.title('matrix completion')\n",
    "plt.xlabel('iteration')\n",
    "plt.ylabel('loss function')\n",
    "plt.legend()"
   ]
  },
  {
   "cell_type": "markdown",
   "metadata": {},
   "source": [
    "### (e)What is the rank of the intermediate iterates? Why is this the case?"
   ]
  },
  {
   "cell_type": "markdown",
   "metadata": {},
   "source": [
    "## Problem 4. SVRG\n",
    "\n",
    "$$\\min_\\beta \\frac{1}{N} \\sum_{i=1}^N \\beta^T x_i +\\log()\\Vert$$"
   ]
  },
  {
   "cell_type": "code",
   "execution_count": 194,
   "metadata": {},
   "outputs": [],
   "source": [
    "X_train = pd.read_csv('digits/X_digits_train.csv',sep=' ', header = None)\n",
    "X_test = pd.read_csv('digits/X_digits_test.csv',sep=' ', header = None)\n",
    "y_train = pd.read_csv('digits/y_digits_train.csv',sep=' ', header = None)\n",
    "y_test = pd.read_csv('digits/y_digits_test.csv',sep=' ', header = None)\n",
    "X_train = np.array(X_train)\n",
    "y_train = np.eye(10)[np.array(y_train).astype(int).reshape(-1)] \n",
    "X_test = np.array(X_test) \n",
    "y_test = np.eye(10)[np.array(y_test).astype(int).reshape(-1)]\n",
    "beta=np.zeros([64,10])"
   ]
  },
  {
   "cell_type": "code",
   "execution_count": 195,
   "metadata": {},
   "outputs": [
    {
     "data": {
      "text/plain": [
       "(1198, 10)"
      ]
     },
     "execution_count": 195,
     "metadata": {},
     "output_type": "execute_result"
    }
   ],
   "source": [
    "y_train.shape"
   ]
  },
  {
   "cell_type": "code",
   "execution_count": 196,
   "metadata": {},
   "outputs": [
    {
     "data": {
      "text/plain": [
       "(1198, 64)"
      ]
     },
     "execution_count": 196,
     "metadata": {},
     "output_type": "execute_result"
    }
   ],
   "source": [
    "X_train.shape"
   ]
  },
  {
   "cell_type": "code",
   "execution_count": 207,
   "metadata": {},
   "outputs": [],
   "source": [
    "def grad_logistic( X, y, beta, mu):\n",
    "    N = X.shape[0]\n",
    "    grad= np.zeros(beta.shape)\n",
    "    for i in range(beta.shape[1]):\n",
    "        grad[:,i]=1.0/N*np.sum(\n",
    "                    X*y[:,i].reshape([N,1])\n",
    "                    -X*np.exp(X.dot(beta[:,i].reshape([beta.shape[0],1])))\n",
    "                    /np.sum(np.exp(-X.dot(beta)), axis =1).reshape([N,1])\n",
    "                    , axis =0)\n",
    "        +mu*beta[:,i]\n",
    "    return grad\n",
    "   \n",
    "def loss_function(X,y,beta, mu):\n",
    "    N=X.shape[0]\n",
    "    tmp=0\n",
    "    for i in range(beta.shape[1]):\n",
    "        tmp+= (X*y[:,i].reshape([N,1])).dot(beta[:,i])\n",
    "    loss =1.0/N*np.sum(tmp+np.log(np.sum(np.exp(-X.dot(beta)), axis =1)), axis =0)+mu*(la.norm(beta)**2)\n",
    "    return loss"
   ]
  },
  {
   "cell_type": "code",
   "execution_count": 217,
   "metadata": {},
   "outputs": [],
   "source": [
    "def gradient_descent_logistic(X, y, mu, c, T):\n",
    "    beta = np.zeros([64,10])\n",
    "    f_value = []\n",
    "    N = X.shape[0]\n",
    "    for t in range(T):\n",
    "        grad=grad_logistic(X, y, beta, mu)\n",
    "        eta = c/(t+1)\n",
    "        beta = beta- eta*grad\n",
    "        f_value.append(loss_function(X,y,beta,mu))\n",
    "    return beta,f_value"
   ]
  },
  {
   "cell_type": "code",
   "execution_count": 219,
   "metadata": {},
   "outputs": [
    {
     "data": {
      "text/plain": [
       "<matplotlib.legend.Legend at 0x11898f6d8>"
      ]
     },
     "execution_count": 219,
     "metadata": {},
     "output_type": "execute_result"
    },
    {
     "data": {
      "image/png": "[encoded data removed]",
      "text/plain": [
       "<Figure size 432x288 with 1 Axes>"
      ]
     },
     "metadata": {
      "needs_background": "light"
     },
     "output_type": "display_data"
    }
   ],
   "source": [
    "beta, loss_dg = gradient_descent_logistic(X_train, y_train, mu =1, c = 1e-4,  T=int(1e4))\n",
    "fig=plt.figure()\n",
    "plt.plot(loss_dg, label='gradient descent')\n",
    "plt.title('Logistic regression')\n",
    "plt.xlabel('iteration')\n",
    "plt.ylabel('loss function')\n",
    "plt.legend()"
   ]
  },
  {
   "cell_type": "code",
   "execution_count": 239,
   "metadata": {},
   "outputs": [],
   "source": [
    "def stochastic_grad_logistic(x,k, y, beta, mu):\n",
    "    grad= np.zeros(beta.shape)\n",
    "    N=y.shape[0]\n",
    "    for i in range(beta.shape[1]):\n",
    "        grad[:,i]=1.0/N*(x*y[k,i]-x*np.exp(x.dot(beta[:,i]))/np.sum(np.exp(-x.dot(beta)))) \\\n",
    "                    +mu*beta[:,i]\n",
    "    return grad"
   ]
  },
  {
   "cell_type": "code",
   "execution_count": 240,
   "metadata": {},
   "outputs": [
    {
     "data": {
      "text/plain": [
       "<matplotlib.legend.Legend at 0x118a8a748>"
      ]
     },
     "execution_count": 240,
     "metadata": {},
     "output_type": "execute_result"
    },
    {
     "data": {
      "image/png": "[encoded data removed]",
      "text/plain": [
       "<Figure size 432x288 with 1 Axes>"
      ]
     },
     "metadata": {
      "needs_background": "light"
     },
     "output_type": "display_data"
    }
   ],
   "source": [
    "np.random.seed(42)\n",
    "def stochastic_gradient_descent_logistic(X, y, mu, c, T):\n",
    "    beta = np.zeros([64,10])\n",
    "    f_value = []\n",
    "    N=X.shape[0]\n",
    "    for t in range(T):\n",
    "        k=np.random.randint(0, N-1)\n",
    "        x=X[k,:]\n",
    "        grad=stochastic_grad_logistic(x, k, y, beta, mu)\n",
    "        eta = c/(t+1)\n",
    "        beta = beta- eta*grad\n",
    "        f_value.append(loss_function(X,y,beta,mu))\n",
    "    return beta,f_value\n",
    "\n",
    "beta_sto, loss_sdg = stochastic_gradient_descent_logistic(X_train, y_train, mu =1, c = 1e-4,  T=int(1198e4))\n",
    "fig=plt.figure()\n",
    "plt.plot(loss_dg, label='gradient descent')\n",
    "plt.title('Logistic regression')\n",
    "plt.xlabel('iterationa')\n",
    "plt.ylabel('loss function')\n",
    "plt.legend()"
   ]
  },
  {
   "cell_type": "markdown",
   "metadata": {},
   "source": []
  },
  {
   "cell_type": "code",
   "execution_count": null,
   "metadata": {},
   "outputs": [],
   "source": [
    "def SVRG_logistic(X,y, mu, S,T):\n",
    "    beta = np.zeros([64,10])\n",
    "    beta_s\n",
    "    f_value = []\n",
    "    n_grad_evals =[]\n",
    "    num_eval=0\n",
    "    N=X.shape[0]\n",
    "    for s in range(S):\n",
    "        beta=beta_s\n",
    "        grad = grad_logistic(X, y, beta_s, mu)\n",
    "        num_eval+=N\n",
    "        k=np.random.randint(0, N-1)\n",
    "        for t in range(T):\n",
    "            beta =beta-eta*(stochastic_grad_logistic(x, k, y, beta, mu)-stochastic_grad_logistic(x,k, y, beta_s, mu)+grad)\n",
    "            beta_s =beta\n",
    "            num_eval+=2\n",
    "            f_value.append(loss_function(X,y,beta,mu))\n",
    "            n_grad_evals.appen(N)\n",
    "    return beta,f_value, n_grad_evals\n",
    "        \n",
    "            "
   ]
  },
  {
   "cell_type": "markdown",
   "metadata": {},
   "source": [
    "## Problem 5"
   ]
  },
  {
   "cell_type": "code",
   "execution_count": null,
   "metadata": {},
   "outputs": [],
   "source": [
    "X_news_train=scipy.io.mmread(\"news/X_news_train.mtx\")\n",
    "X_news_test=scipy.io.mmread(\"news/X_news_test.mtx\")\n",
    "y_news_train = pd.read_csv('news/y_news_train.csv',sep=' ', header = None)\n",
    "y_news_test = pd.read_csv('news/y_news           _test.csv',sep=' ', header = None)"
   ]
  }
 ],
 "metadata": {
  "kernelspec": {
   "display_name": "Python 3",
   "language": "python",
   "name": "python3"
  },
  "language_info": {
   "codemirror_mode": {
    "name": "ipython",
    "version": 3
   },
   "file_extension": ".py",
   "mimetype": "text/x-python",
   "name": "python",
   "nbconvert_exporter": "python",
   "pygments_lexer": "ipython3",
   "version": "3.7.0"
  }
 },
 "nbformat": 4,
 "nbformat_minor": 2
}
